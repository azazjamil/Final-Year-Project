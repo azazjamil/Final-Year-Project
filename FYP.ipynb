{
 "cells": [
  {
   "cell_type": "code",
   "execution_count": 15,
   "metadata": {},
   "outputs": [],
   "source": [
    "import os\n",
    "from keras.models import Model\n",
    "from keras.optimizers import Adam\n",
    "from keras.applications.vgg16 import VGG16, preprocess_input\n",
    "from keras.preprocessing.image import ImageDataGenerator\n",
    "from keras.callbacks import ModelCheckpoint, EarlyStopping\n",
    "from keras.layers import Dense, Dropout, Flatten\n",
    "from pathlib import Path\n",
    "import numpy as np"
   ]
  },
  {
   "cell_type": "code",
   "execution_count": 16,
   "metadata": {},
   "outputs": [],
   "source": [
    "BATCH_SIZE = 64\n",
    "\n",
    "train_generator = ImageDataGenerator(rotation_range=90, \n",
    "                                     brightness_range=[0.1, 0.7],\n",
    "                                     width_shift_range=0.5, \n",
    "                                     height_shift_range=0.5,\n",
    "                                     horizontal_flip=True, \n",
    "                                     vertical_flip=True,\n",
    "                                     validation_split=0.15,\n",
    "                                     preprocessing_function=preprocess_input) # VGG16 preprocessing\n",
    "\n",
    "test_generator = ImageDataGenerator(preprocessing_function=preprocess_input) "
   ]
  },
  {
   "cell_type": "code",
   "execution_count": 17,
   "metadata": {},
   "outputs": [
    {
     "name": "stdout",
     "output_type": "stream",
     "text": [
      "Found 4051 images belonging to 10 classes.\n",
      "Found 711 images belonging to 10 classes.\n",
      "Found 460 images belonging to 10 classes.\n"
     ]
    }
   ],
   "source": [
    "train_data_dir = 'C:/FYP/train'\n",
    "test_data_dir = 'C:/FYP/test1'\n",
    "\n",
    "class_subset = sorted(os.listdir('C:/FYP/try'))[:10] # Using only the first 10 classes\n",
    "\n",
    "traingen = train_generator.flow_from_directory(train_data_dir,\n",
    "                                               target_size=(224, 224),\n",
    "                                               class_mode='categorical',\n",
    "                                               classes=class_subset,\n",
    "                                               subset='training',\n",
    "                                               batch_size=BATCH_SIZE, \n",
    "                                               shuffle=True,\n",
    "                                               seed=123)\n",
    "\n",
    "validgen = train_generator.flow_from_directory(train_data_dir,\n",
    "                                               target_size=(224,224),\n",
    "                                               class_mode='categorical',\n",
    "                                               classes=class_subset,\n",
    "                                               subset='validation',\n",
    "                                               batch_size=BATCH_SIZE,\n",
    "                                               shuffle=True,\n",
    "                                               seed=123)\n",
    "\n",
    "testgen = test_generator.flow_from_directory(test_data_dir,\n",
    "                                             target_size=(224, 224),\n",
    "                                             class_mode=None,\n",
    "                                             classes=class_subset,\n",
    "                                             batch_size=1,\n",
    "                                             shuffle=False,\n",
    "                                             seed=123)"
   ]
  },
  {
   "cell_type": "code",
   "execution_count": 5,
   "metadata": {},
   "outputs": [],
   "source": [
    "def create_model(input_shape, n_classes, optimizer='rmsprop', fine_tune=0):\n",
    "    \"\"\"\n",
    "    Compiles a model integrated with VGG16 pretrained layers\n",
    "    \n",
    "    input_shape: tuple - the shape of input images (width, height, channels)\n",
    "    n_classes: int - number of classes for the output layer\n",
    "    optimizer: string - instantiated optimizer to use for training. Defaults to 'RMSProp'\n",
    "    fine_tune: int - The number of pre-trained layers to unfreeze.\n",
    "                If set to 0, all pretrained layers will freeze during training\n",
    "    \"\"\"\n",
    "    \n",
    "    # Pretrained convolutional layers are loaded using the Imagenet weights.\n",
    "    # Include_top is set to False, in order to exclude the model's fully-connected layers.\n",
    "    conv_base = VGG16(include_top=False,\n",
    "                     weights='imagenet', \n",
    "                     input_shape=input_shape)\n",
    "    \n",
    "    # Defines how many layers to freeze during training.\n",
    "    # Layers in the convolutional base are switched from trainable to non-trainable\n",
    "    # depending on the size of the fine-tuning parameter.\n",
    "    if fine_tune > 0:\n",
    "        for layer in conv_base.layers[:-fine_tune]:\n",
    "            layer.trainable = False\n",
    "    else:\n",
    "        for layer in conv_base.layers:\n",
    "            layer.trainable = False\n",
    "\n",
    "    # Create a new 'top' of the model (i.e. fully-connected layers).\n",
    "    # This is 'bootstrapping' a new top_model onto the pretrained layers.\n",
    "    top_model = conv_base.output\n",
    "    top_model = Flatten(name=\"flatten\")(top_model)\n",
    "    top_model = Dense(4096, activation='relu')(top_model)\n",
    "    top_model = Dense(1072, activation='relu')(top_model)\n",
    "    top_model = Dropout(0.2)(top_model)\n",
    "    output_layer = Dense(n_classes, activation='softmax')(top_model)\n",
    "    \n",
    "    # Group the convolutional base and new fully-connected layers into a Model object.\n",
    "    model = Model(inputs=conv_base.input, outputs=output_layer)\n",
    "\n",
    "    # Compiles the model for training.\n",
    "    model.compile(optimizer=optimizer, \n",
    "                  loss='categorical_crossentropy',\n",
    "                  metrics=['accuracy'])\n",
    "    \n",
    "    return model"
   ]
  },
  {
   "cell_type": "code",
   "execution_count": 6,
   "metadata": {},
   "outputs": [],
   "source": [
    "input_shape = (224, 224, 3)\n",
    "optim_1 = Adam(learning_rate=0.001)\n",
    "n_classes=10\n",
    "\n",
    "n_steps = traingen.samples // BATCH_SIZE\n",
    "n_val_steps = validgen.samples // BATCH_SIZE\n",
    "n_epochs = 50\n",
    "\n",
    "# First we'll train the model without Fine-tuning\n",
    "vgg_model = create_model(input_shape, n_classes, optim_1, fine_tune=0)"
   ]
  },
  {
   "cell_type": "code",
   "execution_count": 7,
   "metadata": {},
   "outputs": [],
   "source": [
    "from livelossplot.inputs.keras import PlotLossesCallback\n",
    "\n",
    "plot_loss_1 = PlotLossesCallback()\n",
    "\n",
    "# ModelCheckpoint callback - save best weights\n",
    "tl_checkpoint_1 = ModelCheckpoint(filepath='tl_model_v1.weights.best.hdf5',\n",
    "                                  save_best_only=True,\n",
    "                                  verbose=1)\n",
    "\n",
    "# EarlyStopping\n",
    "early_stop = EarlyStopping(monitor='val_loss',\n",
    "                           patience=10,\n",
    "                           restore_best_weights=True,\n",
    "                           mode='min')\n",
    "\n",
    "# callbacks_list = [early_stop,tl_checkpoint_1]"
   ]
  },
  {
   "cell_type": "code",
   "execution_count": 8,
   "metadata": {},
   "outputs": [
    {
     "data": {
      "image/png": "[encoded data removed]",
      "text/plain": [
       "<Figure size 864x576 with 2 Axes>"
      ]
     },
     "metadata": {
      "needs_background": "light"
     },
     "output_type": "display_data"
    },
    {
     "name": "stdout",
     "output_type": "stream",
     "text": [
      "accuracy\n",
      "\ttraining         \t (min:    0.193, max:    0.424, cur:    0.424)\n",
      "\tvalidation       \t (min:    0.156, max:    0.193, cur:    0.186)\n",
      "Loss\n",
      "\ttraining         \t (min:    1.532, max:   10.569, cur:    1.532)\n",
      "\tvalidation       \t (min:    2.327, max:    2.684, cur:    2.684)\n",
      "63/63 [==============================] - 1463s 23s/step - loss: 1.5317 - accuracy: 0.4239 - val_loss: 2.6845 - val_accuracy: 0.1861\n",
      "Epoch 8/50\n",
      "61/63 [============================>.] - ETA: 9:24 - loss: 1.5136 - accuracy: 0.4276 "
     ]
    }
   ],
   "source": [
    "vgg_history = vgg_model.fit(traingen,\n",
    "                            batch_size=BATCH_SIZE,\n",
    "                            epochs=n_epochs,\n",
    "                            validation_data=validgen,\n",
    "                            steps_per_epoch=n_steps,\n",
    "                            validation_steps=n_val_steps,\n",
    "                            callbacks=[tl_checkpoint_1, early_stop, plot_loss_1],\n",
    "                            verbose=1)"
   ]
  },
  {
   "cell_type": "code",
   "execution_count": 24,
   "metadata": {},
   "outputs": [
    {
     "name": "stdout",
     "output_type": "stream",
     "text": [
      "886/886 [==============================] - 34s 38ms/step\n"
     ]
    }
   ],
   "source": [
    "vgg_model.load_weights('tl_model_v1.weights.best.hdf5') # initialize the best trained weights\n",
    "\n",
    "true_classes = testgen.classes\n",
    "class_indices = traingen.class_indices\n",
    "class_indices = dict((v,k) for k,v in class_indices.items())\n",
    "\n",
    "vgg_preds = vgg_model.predict(testgen)\n",
    "vgg_pred_classes = np.argmax(vgg_preds, axis=1)"
   ]
  },
  {
   "cell_type": "code",
   "execution_count": 25,
   "metadata": {},
   "outputs": [
    {
     "name": "stdout",
     "output_type": "stream",
     "text": [
      "VGG16 Model Accuracy without Fine-Tuning: 73.48%\n"
     ]
    }
   ],
   "source": [
    "from sklearn.metrics import accuracy_score\n",
    "\n",
    "vgg_acc = accuracy_score(true_classes, vgg_pred_classes)\n",
    "print(\"VGG16 Model Accuracy without Fine-Tuning: {:.2f}%\".format(vgg_acc * 100))"
   ]
  },
  {
   "cell_type": "code",
   "execution_count": 27,
   "metadata": {},
   "outputs": [
    {
     "name": "stdout",
     "output_type": "stream",
     "text": [
      "886/886 [==============================] - 2s 2ms/step - loss: 0.0000e+00 - accuracy: 0.0000e+00\n",
      "886/886 [==============================] - 31s 35ms/step\n",
      "              precision    recall  f1-score   support\n",
      "\n",
      "           0       0.57      0.84      0.68       298\n",
      "           1       0.89      0.68      0.77       588\n",
      "\n",
      "    accuracy                           0.73       886\n",
      "   macro avg       0.73      0.76      0.73       886\n",
      "weighted avg       0.79      0.73      0.74       886\n",
      "\n",
      "[[250 187]\n",
      " [ 48 401]]\n"
     ]
    }
   ],
   "source": [
    "from sklearn.metrics import classification_report\n",
    "from tensorflow.keras.models import load_model\n",
    "test_labels=testgen.classes\n",
    "model = load_model(\"tl_model_v1.weights.best.hdf5\")\n",
    "test_loss= model.evaluate(testgen)\n",
    "prediction=model.predict(testgen)\n",
    "prediction=np.argmax(prediction,axis=1)\n",
    "print(classification_report(prediction,test_labels))\n",
    "from sklearn import metrics\n",
    "# The columns will show the instances predicted for each label,\n",
    "# and the rows will show the actual number of instances for each label.\n",
    "print(metrics.confusion_matrix(test_labels,prediction))"
   ]
  },
  {
   "cell_type": "code",
   "execution_count": 10,
   "metadata": {},
   "outputs": [
    {
     "name": "stderr",
     "output_type": "stream",
     "text": [
      "c:\\Users\\AT\\AppData\\Local\\Programs\\Python\\Python310\\lib\\site-packages\\keras\\optimizers\\optimizer_v2\\adam.py:110: UserWarning: The `lr` argument is deprecated, use `learning_rate` instead.\n",
      "  super(Adam, self).__init__(name, **kwargs)\n"
     ]
    }
   ],
   "source": [
    "traingen.reset()\n",
    "validgen.reset()\n",
    "testgen.reset()\n",
    "\n",
    "# Use a smaller learning rate\n",
    "optim_2 = Adam(lr=0.0001)\n",
    "\n",
    "# Re-compile the model, this time leaving the last 2 layers unfrozen for Fine-Tuning\n",
    "vgg_model_ft = create_model(input_shape, n_classes, optim_2, fine_tune=2)"
   ]
  },
  {
   "cell_type": "code",
   "execution_count": 11,
   "metadata": {},
   "outputs": [
    {
     "name": "stdout",
     "output_type": "stream",
     "text": [
      "Epoch 1/50\n",
      "63/63 [==============================] - ETA: 0s - loss: 2.8007 - accuracy: 0.1558\n",
      "Epoch 1: val_loss did not improve from 2.19174\n",
      "63/63 [==============================] - 79s 1s/step - loss: 2.8007 - accuracy: 0.1558 - val_loss: 2.4330 - val_accuracy: 0.1207\n",
      "Epoch 2/50\n",
      "63/63 [==============================] - ETA: 0s - loss: 2.1864 - accuracy: 0.2097\n",
      "Epoch 2: val_loss did not improve from 2.19174\n",
      "63/63 [==============================] - 85s 1s/step - loss: 2.1864 - accuracy: 0.2097 - val_loss: 2.3436 - val_accuracy: 0.1662\n",
      "Epoch 3/50\n",
      "63/63 [==============================] - ETA: 0s - loss: 2.1146 - accuracy: 0.2287\n",
      "Epoch 3: val_loss did not improve from 2.19174\n",
      "63/63 [==============================] - 88s 1s/step - loss: 2.1146 - accuracy: 0.2287 - val_loss: 2.3962 - val_accuracy: 0.1307\n",
      "Epoch 4/50\n",
      "63/63 [==============================] - ETA: 0s - loss: 2.0554 - accuracy: 0.2553\n",
      "Epoch 4: val_loss did not improve from 2.19174\n",
      "63/63 [==============================] - 89s 1s/step - loss: 2.0554 - accuracy: 0.2553 - val_loss: 2.3644 - val_accuracy: 0.1534\n",
      "Epoch 5/50\n",
      "63/63 [==============================] - ETA: 0s - loss: 2.0105 - accuracy: 0.2596\n",
      "Epoch 5: val_loss did not improve from 2.19174\n",
      "63/63 [==============================] - 90s 1s/step - loss: 2.0105 - accuracy: 0.2596 - val_loss: 2.3705 - val_accuracy: 0.1562\n",
      "Epoch 6/50\n",
      "63/63 [==============================] - ETA: 0s - loss: 1.9785 - accuracy: 0.2676\n",
      "Epoch 6: val_loss did not improve from 2.19174\n",
      "63/63 [==============================] - 90s 1s/step - loss: 1.9785 - accuracy: 0.2676 - val_loss: 2.3657 - val_accuracy: 0.1477\n",
      "Epoch 7/50\n",
      "63/63 [==============================] - ETA: 0s - loss: 1.9585 - accuracy: 0.2709\n",
      "Epoch 7: val_loss did not improve from 2.19174\n",
      "63/63 [==============================] - 90s 1s/step - loss: 1.9585 - accuracy: 0.2709 - val_loss: 2.3873 - val_accuracy: 0.1406\n",
      "Epoch 8/50\n",
      "63/63 [==============================] - ETA: 0s - loss: 1.9262 - accuracy: 0.2864\n",
      "Epoch 8: val_loss did not improve from 2.19174\n",
      "63/63 [==============================] - 90s 1s/step - loss: 1.9262 - accuracy: 0.2864 - val_loss: 2.2580 - val_accuracy: 0.1562\n",
      "Epoch 9/50\n",
      "63/63 [==============================] - ETA: 0s - loss: 1.8985 - accuracy: 0.3015\n",
      "Epoch 9: val_loss did not improve from 2.19174\n",
      "63/63 [==============================] - 104s 2s/step - loss: 1.8985 - accuracy: 0.3015 - val_loss: 2.4144 - val_accuracy: 0.1420\n",
      "Epoch 10/50\n",
      "63/63 [==============================] - ETA: 0s - loss: 1.8708 - accuracy: 0.3015\n",
      "Epoch 10: val_loss did not improve from 2.19174\n",
      "63/63 [==============================] - 105s 2s/step - loss: 1.8708 - accuracy: 0.3015 - val_loss: 2.2960 - val_accuracy: 0.1420\n",
      "Epoch 11/50\n",
      "63/63 [==============================] - ETA: 0s - loss: 1.8328 - accuracy: 0.3233\n",
      "Epoch 11: val_loss did not improve from 2.19174\n",
      "63/63 [==============================] - 91s 1s/step - loss: 1.8328 - accuracy: 0.3233 - val_loss: 2.3747 - val_accuracy: 0.1605\n",
      "Epoch 12/50\n",
      "63/63 [==============================] - ETA: 0s - loss: 1.8283 - accuracy: 0.3220\n",
      "Epoch 12: val_loss did not improve from 2.19174\n",
      "63/63 [==============================] - 94s 1s/step - loss: 1.8283 - accuracy: 0.3220 - val_loss: 2.3671 - val_accuracy: 0.1705\n",
      "Epoch 13/50\n",
      "63/63 [==============================] - ETA: 0s - loss: 1.7999 - accuracy: 0.3236\n",
      "Epoch 13: val_loss did not improve from 2.19174\n",
      "63/63 [==============================] - 93s 1s/step - loss: 1.7999 - accuracy: 0.3236 - val_loss: 2.4019 - val_accuracy: 0.1577\n",
      "Epoch 14/50\n",
      "63/63 [==============================] - ETA: 0s - loss: 1.7778 - accuracy: 0.3326\n",
      "Epoch 14: val_loss did not improve from 2.19174\n",
      "63/63 [==============================] - 93s 1s/step - loss: 1.7778 - accuracy: 0.3326 - val_loss: 2.4302 - val_accuracy: 0.1491\n",
      "Epoch 15/50\n",
      "63/63 [==============================] - ETA: 0s - loss: 1.7579 - accuracy: 0.3429\n",
      "Epoch 15: val_loss did not improve from 2.19174\n",
      "63/63 [==============================] - 94s 1s/step - loss: 1.7579 - accuracy: 0.3429 - val_loss: 2.4702 - val_accuracy: 0.1747\n",
      "Epoch 16/50\n",
      "63/63 [==============================] - ETA: 0s - loss: 1.7581 - accuracy: 0.3519\n",
      "Epoch 16: val_loss did not improve from 2.19174\n",
      "63/63 [==============================] - 94s 1s/step - loss: 1.7581 - accuracy: 0.3519 - val_loss: 2.4849 - val_accuracy: 0.1634\n",
      "Epoch 17/50\n",
      "63/63 [==============================] - ETA: 0s - loss: 1.7611 - accuracy: 0.3376\n",
      "Epoch 17: val_loss did not improve from 2.19174\n",
      "63/63 [==============================] - 98s 2s/step - loss: 1.7611 - accuracy: 0.3376 - val_loss: 2.4357 - val_accuracy: 0.1349\n",
      "Epoch 18/50\n",
      "63/63 [==============================] - ETA: 0s - loss: 1.7230 - accuracy: 0.3579\n",
      "Epoch 18: val_loss did not improve from 2.19174\n",
      "63/63 [==============================] - 99s 2s/step - loss: 1.7230 - accuracy: 0.3579 - val_loss: 2.4061 - val_accuracy: 0.1634\n"
     ]
    }
   ],
   "source": [
    "# Retrain model with fine-tuning\n",
    "vgg_ft_history = vgg_model_ft.fit(traingen,\n",
    "                                  batch_size=BATCH_SIZE,\n",
    "                                  epochs=n_epochs,\n",
    "                                  validation_data=validgen,\n",
    "                                  steps_per_epoch=n_steps, \n",
    "                                  validation_steps=n_val_steps,\n",
    "                                  callbacks=callbacks_list,\n",
    "                                  verbose=1)"
   ]
  },
  {
   "cell_type": "code",
   "execution_count": 12,
   "metadata": {},
   "outputs": [
    {
     "name": "stdout",
     "output_type": "stream",
     "text": [
      "460/460 [==============================] - 16s 33ms/step\n"
     ]
    }
   ],
   "source": [
    "vgg_model_ft.load_weights('tl_model_v1.weights.best.hdf5') # initialize the best trained weights\n",
    "\n",
    "vgg_preds_ft = vgg_model_ft.predict(testgen)\n",
    "vgg_pred_classes_ft = np.argmax(vgg_preds_ft, axis=1)"
   ]
  },
  {
   "cell_type": "code",
   "execution_count": 13,
   "metadata": {},
   "outputs": [
    {
     "name": "stdout",
     "output_type": "stream",
     "text": [
      "VGG16 Model Accuracy with Fine-Tuning: 10.87%\n"
     ]
    }
   ],
   "source": [
    "vgg_acc_ft = accuracy_score(true_classes, vgg_pred_classes_ft)\n",
    "print(\"VGG16 Model Accuracy with Fine-Tuning: {:.2f}%\".format(vgg_acc_ft * 100))"
   ]
  }
 ],
 "metadata": {
  "interpreter": {
   "hash": "6f146e34d1283a14849294fdab43032a7068a37411d6e8c8e647dd05fe9f1f9c"
  },
  "kernelspec": {
   "display_name": "Python 3.10.4 64-bit",
   "language": "python",
   "name": "python3"
  },
  "language_info": {
   "codemirror_mode": {
    "name": "ipython",
    "version": 3
   },
   "file_extension": ".py",
   "mimetype": "text/x-python",
   "name": "python",
   "nbconvert_exporter": "python",
   "pygments_lexer": "ipython3",
   "version": "3.10.4"
  },
  "orig_nbformat": 4
 },
 "nbformat": 4,
 "nbformat_minor": 2
}
